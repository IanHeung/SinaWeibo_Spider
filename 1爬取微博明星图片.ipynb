{
 "metadata": {
  "language_info": {
   "codemirror_mode": {
    "name": "ipython",
    "version": 3
   },
   "file_extension": ".py",
   "mimetype": "text/x-python",
   "name": "python",
   "nbconvert_exporter": "python",
   "pygments_lexer": "ipython3",
   "version": "3.8.5"
  },
  "orig_nbformat": 2,
  "kernelspec": {
   "name": "python385jvsc74a57bd01cafd2190e186924834fc711383409b02b8d9e56ce3b9a20d4f7f63e2c8869c3",
   "display_name": "Python 3.8.5 64-bit ('pachong': conda)"
  }
 },
 "nbformat": 4,
 "nbformat_minor": 2,
 "cells": [
  {
   "cell_type": "code",
   "execution_count": 1,
   "metadata": {},
   "outputs": [],
   "source": [
    "import requests\n",
    "import os \n",
    "import shutil"
   ]
  },
  {
   "cell_type": "code",
   "execution_count": 2,
   "metadata": {},
   "outputs": [],
   "source": [
    "# url = \"https://weibo.com/ajax/profile/getImageWall?uid=1730077315&sinceid=0&has_album=true\"\n",
    "cookie = \"SINAGLOBAL=9163127345197.414.1622179857511; login_sid_t=7d13fac23f6a4911b38cc2637c8c0a34; cross_origin_proto=SSL; wb_view_log=1536*8641.25; _s_tentry=-; Apache=6628065120602.22.1622288360611; ULV=1622288360618:2:2:2:6628065120602.22.1622288360611:1622179857516; ALF=1653825965; SSOLoginState=1622289966; SUB=_2A25Ntl5-DeRhGeNJ7lcU-CrMyD6IHXVuwsi2rDV8PUNbmtB-LWfykW9NS62384SZ5gw2Kk0fKlZdZUMoZv2WB0oh; SUBP=0033WrSXqPxfM725Ws9jqgMF55529P9D9W5JQAcmb-2cZ8lnW7WRxU8r5JpX5KzhUgL.Fo-NSK-f1hB7e0z2dJLoIXnLxKnL1hzLBK-LxKML1-2L1hzLxK-L1h.LBKMLxKqL1KnLB-qLxKqLB-qL1KzLxKnL12BLB-qLxK-L1h.LBKMLxKqLB-qL1Kzt; XSRF-TOKEN=BoovJt8lOgggyIpeWjO6xWWu; WBPSESS=G25uFjw1OsxeiKCBH7F6zuh0VCQck56xDSffMwJMwpKW0jAajBu_SQ7Cep_esLXFuC2R6vw7IFcCgxAjdYkmSVlWPLNswVIGfyfIrKtu_8CNup3xjz4w7Sy_WrzWtfyh\"\n",
    "headers = {\"user-agent\": \"Mozilla/5.0 (Windows NT 10.0; Win64; x64) AppleWebKit/537.36 (KHTML, like Gecko) Chrome/90.0.4430.85 Safari/537.36 Edg/90.0.818.46\",\n",
    "\"cookie\": cookie}"
   ]
  },
  {
   "cell_type": "code",
   "execution_count": 3,
   "metadata": {},
   "outputs": [],
   "source": [
    "def get_pid_sinceid(url):\n",
    "    \"\"\"获取网页相册图片的pid和下一页的sinceid\"\"\"\n",
    "    resp_json = requests.get(url, headers=headers).json()\n",
    "    sinceid = resp_json['data']['since_id']  # 下一页sinceid值\n",
    "    pids = []\n",
    "    for d in resp_json['data']['list']:\n",
    "        pids.append(d['pid'])\n",
    "    return pids, sinceid"
   ]
  },
  {
   "cell_type": "code",
   "execution_count": 4,
   "metadata": {},
   "outputs": [],
   "source": [
    "def get_img_url(pids):\n",
    "    \"\"\"构造图片链接\"\"\"\n",
    "    img_base_url = \"https://wx1.sinaimg.cn/woriginal/{}.jpg\"\n",
    "    img_urls = [img_base_url.format(pid) for pid in pids]\n",
    "    return img_urls"
   ]
  },
  {
   "cell_type": "code",
   "execution_count": 5,
   "metadata": {},
   "outputs": [],
   "source": [
    "def download_img(img_urls):\n",
    "    \"\"\"下载图片\"\"\"\n",
    "    fp = \"c:/users/huawei/desktop/b站素材/weibo_pic/pics\"\n",
    "    if not os.path.exists(fp):\n",
    "        os.makedirs(fp)\n",
    "    for url in img_urls:\n",
    "        data = requests.get(url, headers=headers).content\n",
    "        with open(fp + \"\\\\\" + url.split(\"/\")[-1], \"wb\") as f:\n",
    "            f.write(data)"
   ]
  },
  {
   "cell_type": "code",
   "execution_count": 6,
   "metadata": {},
   "outputs": [],
   "source": [
    "def get_n_pages(n):\n",
    "    base_url = \"https://weibo.com/ajax/profile/getImageWall?uid=2027320563&sinceid={}&has_album=true\"\n",
    "    # 黄晓明uid:1730077315  \n",
    "    # twice-Chic uid:2027320563\n",
    "    sinceid = 0\n",
    "    for i in range(n):\n",
    "        # 请求第一页 第一页sinceid为0\n",
    "        url = base_url.format(sinceid)\n",
    "        pids, sinceid = get_pid_sinceid(url=url)\n",
    "        img_urls = get_img_url(pids)\n",
    "        download_img(img_urls=img_urls)\n"
   ]
  },
  {
   "cell_type": "code",
   "execution_count": 7,
   "metadata": {},
   "outputs": [
    {
     "output_type": "stream",
     "name": "stdout",
     "text": [
      "每一页约有20张图片\n",
      "总共获取约n*20=40张图片\n"
     ]
    }
   ],
   "source": [
    "print(\"每一页约有20张图片\")\n",
    "n = eval(input(\"请输入需要获取的页面数量\"))\n",
    "print(f\"总共获取约{n*20=}张图片\")"
   ]
  },
  {
   "cell_type": "code",
   "execution_count": 8,
   "metadata": {},
   "outputs": [
    {
     "output_type": "stream",
     "name": "stdout",
     "text": [
      "获取完毕~~\n"
     ]
    }
   ],
   "source": [
    "get_n_pages(n=n)\n",
    "print(\"获取完毕~~\")"
   ]
  },
  {
   "cell_type": "code",
   "execution_count": 9,
   "metadata": {},
   "outputs": [],
   "source": [
    "shutil.rmtree(\"c:/users/huawei/desktop/b站素材/weibo_pic/pics\")"
   ]
  },
  {
   "cell_type": "code",
   "execution_count": null,
   "metadata": {},
   "outputs": [],
   "source": [
    "# 优化 \n",
    "# 1. 加上try except\n",
    "# 2. 异步执行\n",
    "# 3. 进度条"
   ]
  }
 ]
}